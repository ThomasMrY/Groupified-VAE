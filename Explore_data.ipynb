{
 "cells": [
  {
   "cell_type": "code",
   "execution_count": 1,
   "metadata": {},
   "outputs": [
    {
     "name": "stdout",
     "output_type": "stream",
     "text": [
      "./dataset_folder/dsprites_ndarray_co1sh3sc6or40x32y32_64x64.npz\n",
      "WARNING:tensorflow:From /home/v-xren/msraimscratch/v-tayan/2021_4_7/GroupifiedVAEs/data/ground_truth/dsprites.py:59: The name tf.gfile.Open is deprecated. Please use tf.io.gfile.GFile instead.\n",
      "\n"
     ]
    }
   ],
   "source": [
    "import gin\n",
    "from data.ground_truth import named_data\n",
    "with gin.unlock_config():\n",
    "    gin.bind_parameter(\"dataset.name\", \"dsprites_full\")\n",
    "dataset = named_data.get_named_ground_truth_data()"
   ]
  },
  {
   "cell_type": "code",
   "execution_count": 10,
   "metadata": {},
   "outputs": [],
   "source": [
    "import numpy as np\n",
    "com_matrix = np.zeros((4,3*40*8*8))\n",
    "for k in range(3):\n",
    "    for i in range(40):\n",
    "        for m in range(8):\n",
    "            for n in range(8):\n",
    "                com_matrix[0,k*8*8*40+i*8*8 + m*8 + n] = k\n",
    "                com_matrix[1,k*8*8*40+i*8*8 + m*8 + n] = i\n",
    "                com_matrix[2,k*8*8*40+i*8*8 + m*8 + n] = m*4\n",
    "                com_matrix[3,k*8*8*40+i*8*8 + m*8 + n] = n*4\n",
    "\n",
    "scale = 2\n",
    "latent_matrix = np.array([[0]*8*8*40*3,\n",
    "        com_matrix[0,:],\n",
    "        [scale]*8*8*40*3,\n",
    "        com_matrix[1,:],\n",
    "        com_matrix[2,:],\n",
    "        com_matrix[3,:]])"
   ]
  },
  {
   "cell_type": "code",
   "execution_count": 241,
   "metadata": {},
   "outputs": [],
   "source": [
    "com_matrix = np.zeros((2,32*32))\n",
    "for m in range(32):\n",
    "    for n in range(32):\n",
    "        com_matrix[0,m*32 + n] = m\n",
    "        com_matrix[1,m*32 + n] = n\n",
    "\n",
    "                \n",
    "scale = 5\n",
    "shape = 1\n",
    "orien = 24\n",
    "latent_matrix = np.array([[0]*32*32,\n",
    "        [shape]*32*32,\n",
    "        [scale]*32*32,\n",
    "        [orien]*32*32,\n",
    "        com_matrix[0,:],\n",
    "        com_matrix[1,:]])"
   ]
  },
  {
   "cell_type": "code",
   "execution_count": 242,
   "metadata": {},
   "outputs": [],
   "source": [
    "latent_matrix = latent_matrix.T\n",
    "def get_images_from_latent(dataset,latent_matrix):\n",
    "    indices = np.array(np.dot(latent_matrix, dataset.factor_bases), dtype=np.int64)\n",
    "    images = dataset.images[indices].astype(np.float32)\n",
    "    return images"
   ]
  },
  {
   "cell_type": "code",
   "execution_count": 243,
   "metadata": {},
   "outputs": [],
   "source": [
    "imgs = get_images_from_latent(dataset,latent_matrix)"
   ]
  },
  {
   "cell_type": "code",
   "execution_count": 244,
   "metadata": {},
   "outputs": [
    {
     "data": {
      "text/plain": [
       "(1024, 64, 64)"
      ]
     },
     "execution_count": 244,
     "metadata": {},
     "output_type": "execute_result"
    }
   ],
   "source": [
    "imgs.shape"
   ]
  },
  {
   "cell_type": "code",
   "execution_count": 245,
   "metadata": {},
   "outputs": [
    {
     "data": {
      "text/plain": [
       "<matplotlib.image.AxesImage at 0x7fb4cc179fd0>"
      ]
     },
     "execution_count": 245,
     "metadata": {},
     "output_type": "execute_result"
    },
    {
     "data": {
      "image/png": "[encoded data removed]",
      "text/plain": [
       "<matplotlib.figure.Figure at 0x7fb4cc1b5950>"
      ]
     },
     "metadata": {
      "needs_background": "light"
     },
     "output_type": "display_data"
    }
   ],
   "source": [
    "import matplotlib.pyplot as plt\n",
    "plt.imshow(sum([imgs[i] for i in range(32)]),cmap='gray')"
   ]
  },
  {
   "cell_type": "code",
   "execution_count": 246,
   "metadata": {},
   "outputs": [
    {
     "data": {
      "text/plain": [
       "<matplotlib.image.AxesImage at 0x7fb4cc16d390>"
      ]
     },
     "execution_count": 246,
     "metadata": {},
     "output_type": "execute_result"
    },
    {
     "data": {
      "image/png": "[encoded data removed]",
      "text/plain": [
       "<matplotlib.figure.Figure at 0x7fb4cc262510>"
      ]
     },
     "metadata": {
      "needs_background": "light"
     },
     "output_type": "display_data"
    }
   ],
   "source": [
    "import matplotlib.pyplot as plt\n",
    "plt.imshow(sum([imgs[32*i] for i in range(32)]),cmap='gray')"
   ]
  },
  {
   "cell_type": "code",
   "execution_count": 247,
   "metadata": {},
   "outputs": [
    {
     "data": {
      "text/plain": [
       "<matplotlib.image.AxesImage at 0x7fb4cc0d5750>"
      ]
     },
     "execution_count": 247,
     "metadata": {},
     "output_type": "execute_result"
    },
    {
     "data": {
      "image/png": "[encoded data removed]",
      "text/plain": [
       "<matplotlib.figure.Figure at 0x7fb4cc1d5810>"
      ]
     },
     "metadata": {
      "needs_background": "light"
     },
     "output_type": "display_data"
    }
   ],
   "source": [
    "import matplotlib.pyplot as plt\n",
    "plt.imshow(sum([imgs[i] for i in range(32*32)]),cmap='gray')"
   ]
  },
  {
   "cell_type": "code",
   "execution_count": 197,
   "metadata": {},
   "outputs": [],
   "source": [
    "com_matrix = np.zeros((2,4*4))\n",
    "for m in range(4):\n",
    "    for n in range(4):\n",
    "        com_matrix[0,m*4 + n] = m*10\n",
    "        com_matrix[1,m*4 + n] = n*10\n",
    "\n",
    "                \n",
    "scale = 0\n",
    "shape = 2\n",
    "orien = 17\n",
    "latent_matrix = np.array([[0]*4*4,\n",
    "        [shape]*4*4,\n",
    "        [scale]*4*4,\n",
    "        [orien]*4*4,\n",
    "        com_matrix[0,:],\n",
    "        com_matrix[1,:]])"
   ]
  },
  {
   "cell_type": "code",
   "execution_count": 198,
   "metadata": {},
   "outputs": [],
   "source": [
    "latent_matrix = latent_matrix.T\n",
    "imgs = get_images_from_latent(dataset,latent_matrix)"
   ]
  },
  {
   "cell_type": "code",
   "execution_count": 199,
   "metadata": {},
   "outputs": [
    {
     "data": {
      "text/plain": [
       "<matplotlib.image.AxesImage at 0x7fb4cc956b50>"
      ]
     },
     "execution_count": 199,
     "metadata": {},
     "output_type": "execute_result"
    },
    {
     "data": {
      "image/png": "[encoded data removed]",
      "text/plain": [
       "<matplotlib.figure.Figure at 0x7fb4cc977610>"
      ]
     },
     "metadata": {
      "needs_background": "light"
     },
     "output_type": "display_data"
    }
   ],
   "source": [
    "import matplotlib.pyplot as plt\n",
    "plt.imshow(sum([imgs[i] for i in range(4)]),cmap='gray')"
   ]
  },
  {
   "cell_type": "code",
   "execution_count": 200,
   "metadata": {},
   "outputs": [
    {
     "data": {
      "text/plain": [
       "<matplotlib.image.AxesImage at 0x7fb4cc8bafd0>"
      ]
     },
     "execution_count": 200,
     "metadata": {},
     "output_type": "execute_result"
    },
    {
     "data": {
      "image/png": "[encoded data removed]",
      "text/plain": [
       "<matplotlib.figure.Figure at 0x7fb4cc966590>"
      ]
     },
     "metadata": {
      "needs_background": "light"
     },
     "output_type": "display_data"
    }
   ],
   "source": [
    "import matplotlib.pyplot as plt\n",
    "plt.imshow(sum([imgs[4*i] for i in range(4)]),cmap='gray')"
   ]
  },
  {
   "cell_type": "code",
   "execution_count": 201,
   "metadata": {},
   "outputs": [
    {
     "data": {
      "text/plain": [
       "<matplotlib.image.AxesImage at 0x7fb4cc8aa210>"
      ]
     },
     "execution_count": 201,
     "metadata": {},
     "output_type": "execute_result"
    },
    {
     "data": {
      "image/png": "[encoded data removed]",
      "text/plain": [
       "<matplotlib.figure.Figure at 0x7fb4cc8d7390>"
      ]
     },
     "metadata": {
      "needs_background": "light"
     },
     "output_type": "display_data"
    }
   ],
   "source": [
    "import matplotlib.pyplot as plt\n",
    "plt.imshow(sum([imgs[i] for i in range(4*4)]),cmap='gray')"
   ]
  },
  {
   "cell_type": "code",
   "execution_count": 252,
   "metadata": {},
   "outputs": [],
   "source": [
    "import numpy as np\n",
    "num_shape = 3\n",
    "num_orien = 40\n",
    "num_x = 4\n",
    "num_y = 4\n",
    "com_matrix = np.zeros((4,3*40*4*4))\n",
    "for k in range(num_shape):\n",
    "    for i in range(num_orien):\n",
    "        for m in range(num_x):\n",
    "            for n in range(num_y):\n",
    "                com_matrix[0,k*num_x*num_y*num_orien+i*num_x*num_y + m*num_x + n] = k\n",
    "                com_matrix[1,k*num_x*num_y*num_orien+i*num_x*num_y + m*num_x + n] = i\n",
    "                com_matrix[2,k*num_x*num_y*num_orien+i*num_x*num_y + m*num_x + n] = m*10\n",
    "                com_matrix[3,k*num_x*num_y*num_orien+i*num_x*num_y + m*num_x + n] = n*10\n",
    "\n",
    "scale = 0\n",
    "latent_matrix = np.array([[0]*num_x*num_y*num_orien*num_shape,\n",
    "        com_matrix[0,:],\n",
    "        [scale]*num_x*num_y*num_orien*num_shape,\n",
    "        com_matrix[1,:],\n",
    "        com_matrix[2,:],\n",
    "        com_matrix[3,:]])"
   ]
  },
  {
   "cell_type": "code",
   "execution_count": 253,
   "metadata": {},
   "outputs": [],
   "source": [
    "latent_matrix = latent_matrix.T\n",
    "imgs = get_images_from_latent(dataset,latent_matrix)"
   ]
  },
  {
   "cell_type": "code",
   "execution_count": 254,
   "metadata": {},
   "outputs": [
    {
     "data": {
      "text/plain": [
       "<matplotlib.image.AxesImage at 0x7fb4cc050390>"
      ]
     },
     "execution_count": 254,
     "metadata": {},
     "output_type": "execute_result"
    },
    {
     "data": {
      "image/png": "[encoded data removed]",
      "text/plain": [
       "<matplotlib.figure.Figure at 0x7fb4cc0e5f90>"
      ]
     },
     "metadata": {
      "needs_background": "light"
     },
     "output_type": "display_data"
    }
   ],
   "source": [
    "import matplotlib.pyplot as plt\n",
    "plt.imshow(sum([imgs[i] for i in range(4)]),cmap='gray')"
   ]
  },
  {
   "cell_type": "code",
   "execution_count": 255,
   "metadata": {},
   "outputs": [
    {
     "data": {
      "text/plain": [
       "<matplotlib.image.AxesImage at 0x7fb4cbfb8550>"
      ]
     },
     "execution_count": 255,
     "metadata": {},
     "output_type": "execute_result"
    },
    {
     "data": {
      "image/png": "[encoded data removed]",
      "text/plain": [
       "<matplotlib.figure.Figure at 0x7fb4cc1965d0>"
      ]
     },
     "metadata": {
      "needs_background": "light"
     },
     "output_type": "display_data"
    }
   ],
   "source": [
    "import matplotlib.pyplot as plt\n",
    "plt.imshow(sum([imgs[4*i] for i in range(4)]),cmap='gray')"
   ]
  },
  {
   "cell_type": "code",
   "execution_count": 256,
   "metadata": {},
   "outputs": [
    {
     "data": {
      "text/plain": [
       "(1920, 64, 64)"
      ]
     },
     "execution_count": 256,
     "metadata": {},
     "output_type": "execute_result"
    }
   ],
   "source": [
    "imgs.shape"
   ]
  },
  {
   "cell_type": "code",
   "execution_count": 273,
   "metadata": {},
   "outputs": [],
   "source": [
    "np.savez(\"./dataset_folder/np_imgs1920\", imgs=imgs)"
   ]
  },
  {
   "cell_type": "code",
   "execution_count": 271,
   "metadata": {},
   "outputs": [],
   "source": [
    "def show_images_grid(imgs_, num_images=25):\n",
    "    ncols = int(np.ceil(num_images**0.5))\n",
    "    nrows = int(np.ceil(num_images / ncols))\n",
    "    _, axes = plt.subplots(ncols, nrows, figsize=(nrows * 3, ncols * 3))\n",
    "    axes = axes.flatten()\n",
    "\n",
    "    for ax_i, ax in enumerate(axes):\n",
    "        if ax_i < num_images:\n",
    "            ax.imshow(imgs_[ax_i], cmap='Greys_r',  interpolation='nearest')\n",
    "            ax.set_xticks([])\n",
    "            ax.set_yticks([])\n",
    "        else:\n",
    "            ax.axis('off')"
   ]
  },
  {
   "cell_type": "code",
   "execution_count": 272,
   "metadata": {},
   "outputs": [
    {
     "data": {
      "image/png": "[encoded data removed]",
      "text/plain": [
       "<matplotlib.figure.Figure at 0x7fb4ad64d490>"
      ]
     },
     "metadata": {},
     "output_type": "display_data"
    }
   ],
   "source": [
    "show_images_grid(dataset.images[:25], num_images=25)"
   ]
  },
  {
   "cell_type": "code",
   "execution_count": 276,
   "metadata": {},
   "outputs": [],
   "source": [
    "data = np.load(\"./dataset_folder/np_imgs1920.npz\")"
   ]
  },
  {
   "cell_type": "code",
   "execution_count": 277,
   "metadata": {},
   "outputs": [
    {
     "data": {
      "text/plain": [
       "1.0"
      ]
     },
     "execution_count": 277,
     "metadata": {},
     "output_type": "execute_result"
    }
   ],
   "source": [
    "np.max(data['imgs'])"
   ]
  },
  {
   "cell_type": "code",
   "execution_count": null,
   "metadata": {},
   "outputs": [],
   "source": []
  }
 ],
 "metadata": {
  "kernelspec": {
   "display_name": "gan_dis",
   "language": "python",
   "name": "gan_dis"
  },
  "language_info": {
   "codemirror_mode": {
    "name": "ipython",
    "version": 3
   },
   "file_extension": ".py",
   "mimetype": "text/x-python",
   "name": "python",
   "nbconvert_exporter": "python",
   "pygments_lexer": "ipython3",
   "version": "3.7.7"
  }
 },
 "nbformat": 4,
 "nbformat_minor": 4
}
