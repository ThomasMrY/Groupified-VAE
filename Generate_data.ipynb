{
 "cells": [
  {
   "cell_type": "code",
   "execution_count": 1,
   "metadata": {},
   "outputs": [],
   "source": [
    "import numpy as np\n",
    "import cv2 as cv\n",
    "import matplotlib.pyplot as plt"
   ]
  },
  {
   "cell_type": "code",
   "execution_count": 69,
   "metadata": {},
   "outputs": [
    {
     "data": {
      "text/plain": [
       "<matplotlib.image.AxesImage at 0x7f3c22709ad0>"
      ]
     },
     "execution_count": 69,
     "metadata": {},
     "output_type": "execute_result"
    },
    {
     "data": {
      "image/png": "[encoded data removed]",
      "text/plain": [
       "<matplotlib.figure.Figure at 0x7f3c226e2990>"
      ]
     },
     "metadata": {
      "needs_background": "light"
     },
     "output_type": "display_data"
    }
   ],
   "source": [
    "plt.rcParams['figure.dpi'] = 100\n",
    "img = np.zeros((64, 64, 1))\n",
    "# img=cv.circle(img,(0,4), 2, (255), -1)\n",
    "for j in range(12):\n",
    "    for i in range(12):\n",
    "        img=cv.circle(img,(-1+5*(i+1),-1+5*(j+1)), 2, (255), -1)\n",
    "plt.imshow(img[:,:,0],cmap='gray')"
   ]
  },
  {
   "cell_type": "code",
   "execution_count": 78,
   "metadata": {},
   "outputs": [],
   "source": [
    "imgs = []\n",
    "for j in range(12):\n",
    "    for i in range(12):\n",
    "        img = np.zeros((64, 64, 1))\n",
    "        img=cv.circle(img,(-1 + 5*(i+1),-1 + 5*(j+1)), 2, (255), -1)\n",
    "        imgs.append(img[np.newaxis,:,:,:])"
   ]
  },
  {
   "cell_type": "code",
   "execution_count": 79,
   "metadata": {},
   "outputs": [],
   "source": [
    "np_imgs = np.concatenate(imgs,axis=0)"
   ]
  },
  {
   "cell_type": "code",
   "execution_count": 80,
   "metadata": {},
   "outputs": [
    {
     "data": {
      "text/plain": [
       "(144, 64, 64, 1)"
      ]
     },
     "execution_count": 80,
     "metadata": {},
     "output_type": "execute_result"
    }
   ],
   "source": [
    "np_imgs.shape"
   ]
  },
  {
   "cell_type": "code",
   "execution_count": 93,
   "metadata": {},
   "outputs": [],
   "source": [
    "np.savez(\"./dataset_folder/np_imgs144\", imgs=np_imgs[:,:,:,0])"
   ]
  },
  {
   "cell_type": "code",
   "execution_count": 95,
   "metadata": {},
   "outputs": [],
   "source": [
    "import os\n",
    "root = os.path.join(\"./dataset_folder/\", 'np_imgs144.npz')\n",
    "data = np.load(root)"
   ]
  },
  {
   "cell_type": "code",
   "execution_count": 100,
   "metadata": {},
   "outputs": [
    {
     "data": {
      "text/plain": [
       "(144, 64, 64)"
      ]
     },
     "execution_count": 100,
     "metadata": {},
     "output_type": "execute_result"
    }
   ],
   "source": [
    "data['imgs'].shape"
   ]
  },
  {
   "cell_type": "code",
   "execution_count": 102,
   "metadata": {},
   "outputs": [
    {
     "data": {
      "text/plain": [
       "255.0"
      ]
     },
     "execution_count": 102,
     "metadata": {},
     "output_type": "execute_result"
    }
   ],
   "source": [
    "np.max(data['imgs'][0])"
   ]
  },
  {
   "cell_type": "code",
   "execution_count": null,
   "metadata": {},
   "outputs": [],
   "source": [
    "    com_matrix = np.zeros((3,6*32*32))\n",
    "    for k in range(6):\n",
    "        for i in range(32):\n",
    "            for j in range(32):\n",
    "                com_matrix[0,k*32*32+i*32 + j] = k\n",
    "                com_matrix[1,k*32*32+i*32 + j] = i\n",
    "                com_matrix[2,k*32*32+i*32 + j] = j\n",
    "\n",
    "    shape = 0\n",
    "    orien = 0\n",
    "    latent_matrix = np.array([[0]*32*32*6,\n",
    "            [shape]*32*32*6,\n",
    "            com_matrix[0,:],\n",
    "            [orien]*32*32*6,\n",
    "            com_matrix[1,:],\n",
    "            com_matrix[2,:]])"
   ]
  }
 ],
 "metadata": {
  "kernelspec": {
   "display_name": "gan_dis",
   "language": "python",
   "name": "gan_dis"
  },
  "language_info": {
   "codemirror_mode": {
    "name": "ipython",
    "version": 3
   },
   "file_extension": ".py",
   "mimetype": "text/x-python",
   "name": "python",
   "nbconvert_exporter": "python",
   "pygments_lexer": "ipython3",
   "version": "3.7.7"
  }
 },
 "nbformat": 4,
 "nbformat_minor": 4
}
